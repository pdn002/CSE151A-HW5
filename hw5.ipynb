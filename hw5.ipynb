{
 "cells": [
  {
   "cell_type": "markdown",
   "metadata": {},
   "source": [
    "## Quation 5 part a"
   ]
  },
  {
   "cell_type": "code",
   "execution_count": 3,
   "metadata": {},
   "outputs": [
    {
     "name": "stdout",
     "output_type": "stream",
     "text": [
      "[[64.  0.  0. ...  2.  2.  1.]\n",
      " [52.  1.  2. ...  4.  2.  1.]\n",
      " [63.  1.  3. ...  0.  1.  1.]\n",
      " ...\n",
      " [45.  0.  1. ...  0.  2.  1.]\n",
      " [49.  1.  2. ...  3.  2.  0.]\n",
      " [59.  1.  0. ...  0.  3.  0.]]\n",
      "(303, 14)\n"
     ]
    }
   ],
   "source": [
    "import numpy as np\n",
    "from sklearn import linear_model\n",
    "import matplotlib.pyplot as plt\n",
    "\n",
    "raw_heart_data = np.loadtxt('heart.csv',delimiter=',', dtype=str)\n",
    "\n",
    "# delete first row which are just column names\n",
    "column_names = raw_heart_data[0].T\n",
    "raw_heart_data = np.delete(raw_heart_data, 0, axis=0)\n",
    "\n",
    "# change from type str to float\n",
    "raw_heart_data = raw_heart_data.astype(float)\n",
    "\n",
    "# randomize the data\n",
    "np.random.shuffle(raw_heart_data)\n",
    "print(raw_heart_data)\n",
    "print(np.shape(raw_heart_data))"
   ]
  },
  {
   "cell_type": "code",
   "execution_count": 4,
   "metadata": {},
   "outputs": [
    {
     "name": "stdout",
     "output_type": "stream",
     "text": [
      "(200, 13)\n",
      "(103, 13)\n",
      "(200,)\n",
      "(103,)\n"
     ]
    }
   ],
   "source": [
    "# separate data\n",
    "\n",
    "heart_data = raw_heart_data[:,0:13]\n",
    "heart_labels = raw_heart_data[:,13].T\n",
    "\n",
    "training_data = heart_data[0:200]\n",
    "test_data = heart_data[200:303]\n",
    "training_labels = heart_labels[0:200]\n",
    "test_labels = heart_labels[200:303]\n",
    "\n",
    "print(np.shape(training_data))\n",
    "print(np.shape(test_data))\n",
    "print(np.shape(training_labels))\n",
    "print(np.shape(test_labels))"
   ]
  },
  {
   "cell_type": "code",
   "execution_count": 5,
   "metadata": {},
   "outputs": [
    {
     "data": {
      "text/plain": [
       "array([[ 0.01951782, -1.46755197,  0.69128099, -0.0265568 , -0.00371644,\n",
       "        -0.13330603,  0.53887778,  0.03520793, -0.9333606 , -0.55567618,\n",
       "         0.13847215, -0.72059977, -0.95680115]])"
      ]
     },
     "execution_count": 5,
     "metadata": {},
     "output_type": "execute_result"
    }
   ],
   "source": [
    "# fit logistic regression\n",
    "\n",
    "logistic_model = linear_model.LogisticRegression(max_iter=1000).fit(training_data, training_labels)\n",
    "w = logistic_model.coef_\n",
    "w"
   ]
  },
  {
   "cell_type": "code",
   "execution_count": 6,
   "metadata": {},
   "outputs": [
    {
     "name": "stdout",
     "output_type": "stream",
     "text": [
      "Three most influential features\n",
      "Index 1 sex\n",
      "Index 12 thal\n",
      "Index 8 exang\n"
     ]
    }
   ],
   "source": [
    "# sort indicies of highest magnitude to lowest\n",
    "sorted_indicies = np.argsort(np.absolute(w[0]) * -1)\n",
    "\n",
    "# three most influential feature\n",
    "print(\"Three most influential features\")\n",
    "for i in sorted_indicies[0:3]:\n",
    "    print(\"Index \" + str(i) + \" \" + str(column_names[i]))"
   ]
  },
  {
   "cell_type": "markdown",
   "metadata": {},
   "source": [
    "## Question 5 part b"
   ]
  },
  {
   "cell_type": "code",
   "execution_count": 7,
   "metadata": {},
   "outputs": [
    {
     "name": "stdout",
     "output_type": "stream",
     "text": [
      "Test Error: 0.1456310679611651\n"
     ]
    }
   ],
   "source": [
    "# get test error\n",
    "test_accuracy = logistic_model.score(test_data, test_labels)\n",
    "print(\"Test Error: \" + str(1 - test_accuracy))"
   ]
  },
  {
   "cell_type": "markdown",
   "metadata": {},
   "source": [
    "Question 5 part c"
   ]
  },
  {
   "cell_type": "code",
   "execution_count": 8,
   "metadata": {},
   "outputs": [
    {
     "name": "stdout",
     "output_type": "stream",
     "text": [
      "5-fold cross-validation error: 0.145\n"
     ]
    }
   ],
   "source": [
    "k = 5\n",
    "total_error = 0\n",
    "size = len(training_data) // k\n",
    "for i in range(5):\n",
    "    total_error += 1 - logistic_model.score(training_data[(i*size):(i*size+size)], training_labels[(i*size):(i*size+size)])\n",
    "average_error = total_error / 5\n",
    "print('5-fold cross-validation error: ' + str(average_error))"
   ]
  },
  {
   "cell_type": "markdown",
   "metadata": {},
   "source": [
    "The test error and the cross-validation error are both about the same with an error of 0.145"
   ]
  },
  {
   "cell_type": "code",
   "execution_count": 9,
   "metadata": {},
   "outputs": [
    {
     "data": {
      "text/plain": [
       "array(['sex', 'trestbps'], dtype='<U8')"
      ]
     },
     "execution_count": 9,
     "metadata": {},
     "output_type": "execute_result"
    }
   ],
   "source": [
    "s_feature_names = column_names[1:1+1]\n",
    "s_feature_names = np.append(s_feature_names, column_names[3])\n",
    "s_feature_names"
   ]
  },
  {
   "cell_type": "markdown",
   "metadata": {},
   "source": [
    "## Question 6 part a"
   ]
  },
  {
   "cell_type": "code",
   "execution_count": 11,
   "metadata": {},
   "outputs": [
    {
     "name": "stdout",
     "output_type": "stream",
     "text": [
      "Feature selected at k = 1: thal\n",
      "Feature selected at k = 2: trestbps\n",
      "Feature selected at k = 3: chol\n",
      "Feature selected at k = 4: fbs\n",
      "Feature selected at k = 5: thalach\n",
      "Feature selected at k = 6: sex\n",
      "Feature selected at k = 7: cp\n",
      "Feature selected at k = 8: slope\n",
      "Feature selected at k = 9: exang\n",
      "Feature selected at k = 10: oldpeak\n",
      "Feature selected at k = 11: restecg\n",
      "Feature selected at k = 12: ï»¿age\n",
      "Feature selected at k = 13: ca\n"
     ]
    }
   ],
   "source": [
    "not_s = training_data\n",
    "not_s_feature_names = column_names\n",
    "\n",
    "test_data_copy = test_data\n",
    "\n",
    "# find the first feature to be in S\n",
    "min_error = 1\n",
    "min_test_error = 1\n",
    "min_feature = 0\n",
    "for j in range(len(not_s[0])):\n",
    "    k = 5\n",
    "    total_error = 0\n",
    "\n",
    "    sparse_model = linear_model.LogisticRegression(max_iter=1000).fit(not_s[:,j:j+1], training_labels)\n",
    "\n",
    "    # estimate error using k-fold cross validation\n",
    "    size = len(training_data) // k\n",
    "    for i in range(5):\n",
    "        total_error += 1 - sparse_model.score(not_s[(i*size):(i*size+size),j:j+1], training_labels[(i*size):(i*size+size)])\n",
    "    average_error = total_error / 5\n",
    "    if average_error < min_error:\n",
    "        min_error = average_error\n",
    "        min_test_error = 1 - sparse_model.score(test_data_copy[:, j:j+1], test_labels)\n",
    "        min_feature = j\n",
    "\n",
    "cross_errors = np.array([min_error])\n",
    "test_errors = np.array([min_test_error])\n",
    "\n",
    "print('Feature selected at k = 1: ' + not_s_feature_names[min_feature])\n",
    "\n",
    "# move the name of feature selected from the feature not in s to in s\n",
    "s_feature_names = not_s_feature_names[min_feature:min_feature+1]\n",
    "not_s_feature_names = np.delete(not_s_feature_names, min_feature)\n",
    "\n",
    "# move the actual feature from not in s to in s\n",
    "s = not_s[:, min_feature:min_feature+1]\n",
    "not_s = np.delete(not_s, min_feature, axis=1)\n",
    "\n",
    "selected_test_data = test_data_copy[:, min_feature:min_feature+1]\n",
    "test_data_copy = np.delete(test_data_copy, min_feature, axis=1)\n",
    "\n",
    "# find all the next features to be in S\n",
    "for h in range(len(not_s[0])):\n",
    "    min_error = 1\n",
    "    min_test_error = 1\n",
    "    min_feature = 0\n",
    "    for j in range(len(not_s[0])):\n",
    "        k = 5\n",
    "        total_error = 0\n",
    "\n",
    "        sparse_model = linear_model.LogisticRegression(max_iter=1000).fit(np.hstack((s, not_s[:,j:j+1])), training_labels)\n",
    "\n",
    "        size = len(training_data) // k\n",
    "        for i in range(5):\n",
    "            total_error += 1 - sparse_model.score(np.hstack((s[(i*size):(i*size+size)], not_s[(i*size):(i*size+size),j:j+1])), training_labels[(i*size):(i*size+size)])\n",
    "        average_error = total_error / 5\n",
    "        if average_error < min_error:\n",
    "            min_error = average_error\n",
    "            min_test_error = 1 - sparse_model.score(np.hstack((selected_test_data, test_data_copy[:,j:j+1])), test_labels)\n",
    "            min_feature = j\n",
    "    \n",
    "    cross_errors = np.append(cross_errors, [min_error])\n",
    "    test_errors = np.append(test_errors, [min_test_error])\n",
    "\n",
    "    print('Feature selected at k = ' + str(h+2) + ': ' + not_s_feature_names[min_feature])\n",
    "\n",
    "    s_feature_names = np.append(s_feature_names, not_s_feature_names[min_feature])\n",
    "    not_s_feature_names = np.delete(not_s_feature_names, min_feature)\n",
    "\n",
    "    s = np.hstack((s, not_s[:, min_feature:min_feature+1]))\n",
    "    not_s = np.delete(not_s, min_feature, axis=1)\n",
    "\n",
    "    selected_test_data = np.hstack((selected_test_data, test_data_copy[:, min_feature:min_feature+1]))\n",
    "    test_data_copy = np.delete(test_data_copy, min_feature, axis=1)\n",
    "\n"
   ]
  },
  {
   "cell_type": "code",
   "execution_count": 23,
   "metadata": {},
   "outputs": [
    {
     "data": {
      "image/png": "[encoded data removed]",
      "text/plain": [
       "<Figure size 640x480 with 1 Axes>"
      ]
     },
     "metadata": {},
     "output_type": "display_data"
    }
   ],
   "source": [
    "# plot test error and cross validation error\n",
    "\n",
    "fig, ax = plt.subplots()\n",
    "\n",
    "ax.plot(range(1,14), cross_errors, label='cross validation errors')\n",
    "ax.plot(range(1,14), test_errors, label='test error')\n",
    "ax.legend()\n",
    "ax.set_xticks(range(1,14))\n",
    "ax.set_xlabel('k')\n",
    "ax.set_ylabel('error')\n",
    "ax.set_title('Errors at Various K Values')\n",
    "plt.show()"
   ]
  },
  {
   "cell_type": "markdown",
   "metadata": {},
   "source": [
    "## Question 6 part b"
   ]
  },
  {
   "cell_type": "code",
   "execution_count": null,
   "metadata": {},
   "outputs": [],
   "source": []
  }
 ],
 "metadata": {
  "kernelspec": {
   "display_name": "Python 3",
   "language": "python",
   "name": "python3"
  },
  "language_info": {
   "codemirror_mode": {
    "name": "ipython",
    "version": 3
   },
   "file_extension": ".py",
   "mimetype": "text/x-python",
   "name": "python",
   "nbconvert_exporter": "python",
   "pygments_lexer": "ipython3",
   "version": "3.11.0"
  }
 },
 "nbformat": 4,
 "nbformat_minor": 2
}
